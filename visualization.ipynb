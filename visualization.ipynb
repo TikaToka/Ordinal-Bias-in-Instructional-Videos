{
 "cells": [
  {
   "cell_type": "code",
   "execution_count": 1,
   "metadata": {},
   "outputs": [],
   "source": [
    "import pandas as pd\n",
    "import numpy as np\n",
    "import os\n",
    "import matplotlib.pyplot as plt"
   ]
  },
  {
   "cell_type": "code",
   "execution_count": 2,
   "metadata": {},
   "outputs": [],
   "source": [
    "os.chdir('/home/jckim/workspace/ASFormer')"
   ]
  },
  {
   "cell_type": "code",
   "execution_count": 3,
   "metadata": {},
   "outputs": [],
   "source": [
    "dataset = 'gtea' \n",
    "mode='rand'\n",
    "train_mode=''\n",
    "\n",
    "result_dir='results'\n",
    "testing='y'\n",
    "ndir='/data/jckim/data/'\n",
    "\n",
    "if train_mode != '':\n",
    "   result_dir=f'results_{train_mode}'\n",
    "if mode != '':\n",
    "  testing='n'\n",
    "  result_dir += f'_{mode}'\n",
    "  tdir=f'/data/jckim/data_{mode}/' # /data/jckim/data_mode/\n",
    "\n",
    "if dataset == '50salads':\n",
    "    split = 5\n",
    "else:\n",
    "    split = 4"
   ]
  },
  {
   "cell_type": "code",
   "execution_count": 4,
   "metadata": {},
   "outputs": [],
   "source": [
    "def read_file(path):\n",
    "    with open(path, 'r') as f:\n",
    "        content = f.read()\n",
    "        f.close()\n",
    "    return content"
   ]
  },
  {
   "cell_type": "code",
   "execution_count": 5,
   "metadata": {},
   "outputs": [],
   "source": [
    "if dataset=='gtea':\n",
    "  # lists={'take': 'background', \"close\": \"put\", \"open\": \"background\"}\n",
    "  lists = {\"close\": \"put\"}\n",
    "# elif dataset=='50salads':\n",
    "#   lists={'cut_tomato': 'place_tomato_into_bowl', \"peel_cucumber\": \"cut_cucumber\", \"cut_cucumber\" :'place_cucumber_into_bowl', \\\n",
    "# 'cut_lettuce': 'place_lettuce_into_bowl'}\n",
    "# else:\n",
    "#   lists={\"pour_dough2pan\": \"fry_pancake\", \"put_egg2plate\": \"SIL\", \"cut_orange\": \"squeeze_orange\", \"put_bunTogether\": \"SIL\"}\n",
    "elif dataset=='breakfast':  \n",
    "  lists = {\"pour_dough2pan\": \"fry_pancake\"}\n",
    "  \n",
    "    "
   ]
  },
  {
   "cell_type": "code",
   "execution_count": 6,
   "metadata": {},
   "outputs": [],
   "source": [
    "if dataset=='gtea':\n",
    "  label='close'\n",
    "elif dataset=='50salads':\n",
    "  label='cut_tomato'\n",
    "else:\n",
    "  label=\"pour_dough2pan\""
   ]
  },
  {
   "cell_type": "code",
   "execution_count": 7,
   "metadata": {},
   "outputs": [],
   "source": [
    "correct_gt = 0\n",
    "total_gt = 0\n",
    "a=0\n",
    "b=0\n",
    "ground_truth_counts = {}\n",
    "prediction_counts = {}\n",
    "\n",
    "for s in range(1, split+1):\n",
    "  recog_path = \"./{}/\".format(result_dir)+dataset+\"/split_{}\".format(s)+\"/\"\n",
    "  file_list = ndir +dataset+\"/splits/test.split{}\".format(s)+\".bundle\"\n",
    "  if testing == 'y':\n",
    "    ground_truth_path = tdir + dataset + \"/groundTruth/\"\n",
    "    mapping_file = ndir + dataset + \"/mapping.txt\"\n",
    "    list_of_videos = read_file(file_list).split('\\n')[:-1]\n",
    "  else:\n",
    "    ground_truth_path = ndir + dataset + \"/groundTruth/\"\n",
    "    mapping_file = ndir + dataset + \"/mapping.txt\"\n",
    "    list_of_videos = read_file(file_list).split('\\n')[:-1]\n",
    "\n",
    "  for vid in list_of_videos:\n",
    "    gt_file = ground_truth_path + vid\n",
    "    gt_content = read_file(gt_file).split('\\n')[0:-1]\n",
    "    new_list = []\n",
    "    last_element = None\n",
    "    for element in gt_content:\n",
    "      if element != last_element:\n",
    "        new_list.append(element)\n",
    "        last_element = element\n",
    "    gt_content = new_list\n",
    "    \n",
    "    if testing == 'y':\n",
    "      recog_file = str(\"/\".join(recog_path.split('/')[:-2])) + '/' + str(recog_path.split('/')[-2] + '/' + vid.split('.')[0])\n",
    "    else:\n",
    "      recog_file = recog_path  + vid.split('.')[0]\n",
    "    recog_content = read_file(recog_file).split('\\n')[1].split()\n",
    "    new_list = []\n",
    "    last_element = None\n",
    "    for element in recog_content:\n",
    "      if element != last_element:\n",
    "        new_list.append(element)\n",
    "        last_element = element\n",
    "    recog_content = new_list\n",
    "\n",
    "    for i in range(len(gt_content)-1):\n",
    "      if gt_content[i] in lists.keys():\n",
    "        total_gt += 1\n",
    "        if gt_content[i+1] == lists[gt_content[i]]:\n",
    "          correct_gt += 1\n",
    "      if gt_content[i] == label:\n",
    "        if gt_content[i+1] in ground_truth_counts.keys():\n",
    "          ground_truth_counts[gt_content[i+1]] += 1\n",
    "        else:\n",
    "          ground_truth_counts[gt_content[i+1]] = 1\n",
    "    \n",
    "    for i in range(len(recog_content)-1):\n",
    "      if recog_content[i] in lists.keys():\n",
    "        a += 1\n",
    "        if recog_content[i+1] == lists[recog_content[i]]:\n",
    "          b += 1\n",
    "      if recog_content[i] == label:\n",
    "        if recog_content[i+1] in prediction_counts.keys():\n",
    "          prediction_counts[recog_content[i+1]] += 1\n",
    "        else:\n",
    "          prediction_counts[recog_content[i+1]] = 1\n",
    "\n",
    "        \n"
   ]
  },
  {
   "cell_type": "code",
   "execution_count": 8,
   "metadata": {},
   "outputs": [],
   "source": [
    "real_counts={}\n",
    "\n",
    "for s in range(1, split+1):\n",
    "  recog_path = \"./{}/\".format(result_dir)+dataset+\"/split_{}\".format(s)+\"/\"\n",
    "  file_list = ndir +dataset+\"/splits/test.split{}\".format(s)+\".bundle\"\n",
    "  ground_truth_path = ndir + dataset + \"/groundTruth/\"\n",
    "  mapping_file = ndir + dataset + \"/mapping.txt\"\n",
    "  list_of_videos = read_file(file_list).split('\\n')[:-1]\n",
    "\n",
    "  for vid in list_of_videos:\n",
    "    gt_file = ground_truth_path + vid\n",
    "    gt_content = read_file(gt_file).split('\\n')[0:-1]\n",
    "\n",
    "    new_list = []\n",
    "    last_element = None\n",
    "    for element in gt_content:\n",
    "      if element != last_element:\n",
    "        new_list.append(element)\n",
    "        last_element = element\n",
    "    gt_content = new_list\n",
    "\n",
    "    \n",
    "    if testing == 'y':\n",
    "      recog_file = str(\"/\".join(recog_path.split('/')[:-2])) + '/' + str(recog_path.split('/')[-2] + '/' + vid.split('.')[0])\n",
    "    else:\n",
    "      recog_file = recog_path  + vid.split('.')[0]\n",
    "    recog_content = read_file(recog_file).split('\\n')[1].split()\n",
    "\n",
    "    new_list = []\n",
    "    last_element = None\n",
    "    for element in recog_content:\n",
    "      if element != last_element:\n",
    "        new_list.append(element)\n",
    "        last_element = element\n",
    "    recog_content = new_list\n",
    "\n",
    "    for i in range(len(gt_content)-1):\n",
    "      if gt_content[i] == label:\n",
    "        if gt_content[i+1] in real_counts.keys():\n",
    "          real_counts[gt_content[i+1]] += 1\n",
    "        else:\n",
    "          real_counts[gt_content[i+1]] = 1"
   ]
  },
  {
   "cell_type": "code",
   "execution_count": 9,
   "metadata": {},
   "outputs": [
    {
     "name": "stdout",
     "output_type": "stream",
     "text": [
      "{'put': 64, 'background': 3}\n",
      "{'put': 54, 'background': 7, 'open': 3, 'stir': 1}\n",
      "{'put': 64, 'background': 3}\n"
     ]
    },
    {
     "data": {
      "text/plain": [
       "[Text(0, 0, 'background'),\n",
       " Text(1, 0, 'open'),\n",
       " Text(2, 0, 'put'),\n",
       " Text(3, 0, 'stir')]"
      ]
     },
     "execution_count": 9,
     "metadata": {},
     "output_type": "execute_result"
    },
    {
     "data": {
      "image/png": "[encoded data removed]",
      "text/plain": [
       "<Figure size 1500x500 with 1 Axes>"
      ]
     },
     "metadata": {},
     "output_type": "display_data"
    }
   ],
   "source": [
    "print(ground_truth_counts)\n",
    "print(prediction_counts)\n",
    "print(real_counts)\n",
    "\n",
    "# Get unique keys from both dictionaries\n",
    "keys = set(list(real_counts.keys()) + list(ground_truth_counts.keys()) + list(prediction_counts.keys()))\n",
    "\n",
    "# Extract values for each key from both dictionaries\n",
    "real_vals = [real_counts.get(key, 0) for key in keys]\n",
    "groundtruth_vals = [ground_truth_counts.get(key, 0) for key in keys]\n",
    "prediction_vals = [prediction_counts.get(key, 0) for key in keys]\n",
    "\n",
    "# Set up the plot\n",
    "fig, ax = plt.subplots(figsize=(15, 5))\n",
    "plt.rc('font', size=20) \n",
    "index = range(len(keys))\n",
    "bar_width = 0.25\n",
    "opacity = 0.8\n",
    "\n",
    "# Create bars for ground truth\n",
    "\n",
    "groundtruth_bars = ax.bar(index, groundtruth_vals, bar_width,\n",
    "                 alpha=opacity,\n",
    "                 color='b',\n",
    "                 label='Ground Truth')\n",
    "\n",
    "real_bars = ax.bar([i - bar_width for i in index], real_vals, bar_width,\n",
    "                  alpha=opacity,\n",
    "                  color='r',\n",
    "                  label='Original')\n",
    "\n",
    "# Create bars for prediction\n",
    "prediction_bars = ax.bar([i + bar_width for i in index], prediction_vals, bar_width,\n",
    "                 alpha=opacity,\n",
    "                 color='g',\n",
    "                 label='Prediction')\n",
    "\n",
    "# Add labels, title, and legend\n",
    "ax.set_xlabel('Action Label')\n",
    "ax.set_ylabel('Count')\n",
    "ax.set_title('Model: ASFormer, Dataset: GTEA')\n",
    "ax.set_xticks([i for i in index])\n",
    "ax.set_xticklabels(keys)\n",
    "# ax.legend()"
   ]
  },
  {
   "cell_type": "code",
   "execution_count": 10,
   "metadata": {},
   "outputs": [
    {
     "name": "stdout",
     "output_type": "stream",
     "text": [
      "0.9552238805970149\n",
      "0.8307692307692308\n",
      "67 64\n"
     ]
    }
   ],
   "source": [
    "print(correct_gt/total_gt)\n",
    "print(b/a)\n",
    "print(total_gt, correct_gt)"
   ]
  }
 ],
 "metadata": {
  "kernelspec": {
   "display_name": "Python 3",
   "language": "python",
   "name": "python3"
  },
  "language_info": {
   "codemirror_mode": {
    "name": "ipython",
    "version": 3
   },
   "file_extension": ".py",
   "mimetype": "text/x-python",
   "name": "python",
   "nbconvert_exporter": "python",
   "pygments_lexer": "ipython3",
   "version": "3.10.8"
  },
  "orig_nbformat": 4,
  "vscode": {
   "interpreter": {
    "hash": "8c9208282c268ab09878474c077c8c9a0aa3e8118fc3d237ff48ed7373f673ae"
   }
  }
 },
 "nbformat": 4,
 "nbformat_minor": 2
}
